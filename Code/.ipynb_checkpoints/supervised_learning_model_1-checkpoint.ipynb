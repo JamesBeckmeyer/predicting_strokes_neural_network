{
 "cells": [
  {
   "cell_type": "markdown",
   "metadata": {},
   "source": [
    " # Predicting Brain Strokes"
   ]
  },
  {
   "cell_type": "code",
   "execution_count": 1,
   "metadata": {},
   "outputs": [
    {
     "data": {
      "text/html": [
       "<div>\n",
       "<style scoped>\n",
       "    .dataframe tbody tr th:only-of-type {\n",
       "        vertical-align: middle;\n",
       "    }\n",
       "\n",
       "    .dataframe tbody tr th {\n",
       "        vertical-align: top;\n",
       "    }\n",
       "\n",
       "    .dataframe thead th {\n",
       "        text-align: right;\n",
       "    }\n",
       "</style>\n",
       "<table border=\"1\" class=\"dataframe\">\n",
       "  <thead>\n",
       "    <tr style=\"text-align: right;\">\n",
       "      <th></th>\n",
       "      <th>?</th>\n",
       "      <th>age</th>\n",
       "      <th>avg_glucose_level</th>\n",
       "      <th>bmi</th>\n",
       "      <th>ever_married_No</th>\n",
       "      <th>ever_married_Yes</th>\n",
       "      <th>work_type_Govt_job</th>\n",
       "      <th>work_type_Private</th>\n",
       "      <th>work_type_Self-employed</th>\n",
       "      <th>work_type_children</th>\n",
       "      <th>Residence_type_Rural</th>\n",
       "      <th>Residence_type_Urban</th>\n",
       "      <th>smoking_status_Unknown</th>\n",
       "      <th>smoking_status_formerly smoked</th>\n",
       "      <th>smoking_status_never smoked</th>\n",
       "      <th>smoking_status_smokes</th>\n",
       "      <th>stroke</th>\n",
       "    </tr>\n",
       "  </thead>\n",
       "  <tbody>\n",
       "    <tr>\n",
       "      <th>0</th>\n",
       "      <td>0</td>\n",
       "      <td>1.040584334185826</td>\n",
       "      <td>2.723410903530197</td>\n",
       "      <td>1.193238162209789</td>\n",
       "      <td>0</td>\n",
       "      <td>1</td>\n",
       "      <td>0</td>\n",
       "      <td>1</td>\n",
       "      <td>0</td>\n",
       "      <td>0</td>\n",
       "      <td>0</td>\n",
       "      <td>1</td>\n",
       "      <td>0</td>\n",
       "      <td>1</td>\n",
       "      <td>0</td>\n",
       "      <td>0</td>\n",
       "      <td>1</td>\n",
       "    </tr>\n",
       "    <tr>\n",
       "      <th>1</th>\n",
       "      <td>1</td>\n",
       "      <td>1.614270327485722</td>\n",
       "      <td>-0.0005227665986433442</td>\n",
       "      <td>0.5893896105370293</td>\n",
       "      <td>0</td>\n",
       "      <td>1</td>\n",
       "      <td>0</td>\n",
       "      <td>1</td>\n",
       "      <td>0</td>\n",
       "      <td>0</td>\n",
       "      <td>1</td>\n",
       "      <td>0</td>\n",
       "      <td>0</td>\n",
       "      <td>0</td>\n",
       "      <td>1</td>\n",
       "      <td>0</td>\n",
       "      <td>1</td>\n",
       "    </tr>\n",
       "    <tr>\n",
       "      <th>2</th>\n",
       "      <td>2</td>\n",
       "      <td>0.24624988192443203</td>\n",
       "      <td>1.4485291841720218</td>\n",
       "      <td>0.8692218661902591</td>\n",
       "      <td>0</td>\n",
       "      <td>1</td>\n",
       "      <td>0</td>\n",
       "      <td>1</td>\n",
       "      <td>0</td>\n",
       "      <td>0</td>\n",
       "      <td>0</td>\n",
       "      <td>1</td>\n",
       "      <td>0</td>\n",
       "      <td>0</td>\n",
       "      <td>0</td>\n",
       "      <td>1</td>\n",
       "      <td>1</td>\n",
       "    </tr>\n",
       "    <tr>\n",
       "      <th>3</th>\n",
       "      <td>3</td>\n",
       "      <td>1.5701406356934222</td>\n",
       "      <td>1.5126504540805694</td>\n",
       "      <td>-0.6624915331747888</td>\n",
       "      <td>0</td>\n",
       "      <td>1</td>\n",
       "      <td>0</td>\n",
       "      <td>0</td>\n",
       "      <td>1</td>\n",
       "      <td>0</td>\n",
       "      <td>1</td>\n",
       "      <td>0</td>\n",
       "      <td>0</td>\n",
       "      <td>0</td>\n",
       "      <td>1</td>\n",
       "      <td>0</td>\n",
       "      <td>1</td>\n",
       "    </tr>\n",
       "    <tr>\n",
       "      <th>4</th>\n",
       "      <td>4</td>\n",
       "      <td>1.6584000192780215</td>\n",
       "      <td>1.7808947977464298</td>\n",
       "      <td>0.07390913959686891</td>\n",
       "      <td>0</td>\n",
       "      <td>1</td>\n",
       "      <td>0</td>\n",
       "      <td>1</td>\n",
       "      <td>0</td>\n",
       "      <td>0</td>\n",
       "      <td>0</td>\n",
       "      <td>1</td>\n",
       "      <td>0</td>\n",
       "      <td>1</td>\n",
       "      <td>0</td>\n",
       "      <td>0</td>\n",
       "      <td>1</td>\n",
       "    </tr>\n",
       "  </tbody>\n",
       "</table>\n",
       "</div>"
      ],
      "text/plain": [
       "   ?                  age       avg_glucose_level                  bmi  \\\n",
       "0  0    1.040584334185826       2.723410903530197    1.193238162209789   \n",
       "1  1    1.614270327485722  -0.0005227665986433442   0.5893896105370293   \n",
       "2  2  0.24624988192443203      1.4485291841720218   0.8692218661902591   \n",
       "3  3   1.5701406356934222      1.5126504540805694  -0.6624915331747888   \n",
       "4  4   1.6584000192780215      1.7808947977464298  0.07390913959686891   \n",
       "\n",
       "  ever_married_No ever_married_Yes work_type_Govt_job work_type_Private  \\\n",
       "0               0                1                  0                 1   \n",
       "1               0                1                  0                 1   \n",
       "2               0                1                  0                 1   \n",
       "3               0                1                  0                 0   \n",
       "4               0                1                  0                 1   \n",
       "\n",
       "  work_type_Self-employed work_type_children Residence_type_Rural  \\\n",
       "0                       0                  0                    0   \n",
       "1                       0                  0                    1   \n",
       "2                       0                  0                    0   \n",
       "3                       1                  0                    1   \n",
       "4                       0                  0                    0   \n",
       "\n",
       "  Residence_type_Urban smoking_status_Unknown smoking_status_formerly smoked  \\\n",
       "0                    1                      0                              1   \n",
       "1                    0                      0                              0   \n",
       "2                    1                      0                              0   \n",
       "3                    0                      0                              0   \n",
       "4                    1                      0                              1   \n",
       "\n",
       "  smoking_status_never smoked smoking_status_smokes stroke  \n",
       "0                           0                     0      1  \n",
       "1                           1                     0      1  \n",
       "2                           0                     1      1  \n",
       "3                           1                     0      1  \n",
       "4                           0                     0      1  "
      ]
     },
     "execution_count": 1,
     "metadata": {},
     "output_type": "execute_result"
    }
   ],
   "source": [
    "import sqlalchemy\n",
    "import pandas as pd\n",
    "from sqlalchemy.ext.automap import automap_base\n",
    "from sqlalchemy.orm import Session\n",
    "from sqlalchemy import create_engine\n",
    "from sklearn.metrics import accuracy_score\n",
    "from sklearn.linear_model import LogisticRegression\n",
    "from pathlib import Path\n",
    "import matplotlib.pyplot as plt\n",
    "import numpy as np\n",
    "from sklearn.metrics import confusion_matrix, classification_report\n",
    "\n",
    "\n",
    "# Database Setup\n",
    "engine = create_engine(\"sqlite:///../resources/stroke_data.sqlite\")\n",
    "\n",
    "# reflect an existing database into a new model\n",
    "Base = automap_base()\n",
    "\n",
    "# reflect the tables\n",
    "Base.prepare(autoload_with=engine)\n",
    "\n",
    "#test view all classes found by automap\n",
    "Base.classes.keys()\n",
    "\n",
    "conn = engine.connect()\n",
    "\n",
    "#populate obesity table\n",
    "stroke_df = pd.read_sql(\"SELECT * FROM stroke_data\", conn)\n",
    "\n",
    "stroke_df.head()"
   ]
  },
  {
   "cell_type": "code",
   "execution_count": 2,
   "metadata": {},
   "outputs": [],
   "source": [
    "stroke_df = stroke_df.drop(['?'], axis = 1)"
   ]
  },
  {
   "cell_type": "code",
   "execution_count": 3,
   "metadata": {},
   "outputs": [],
   "source": [
    "#Define features and target\n",
    "y = stroke_df[\"stroke\"]\n",
    "X = stroke_df.drop(columns=\"stroke\")"
   ]
  },
  {
   "cell_type": "code",
   "execution_count": 4,
   "metadata": {},
   "outputs": [
    {
     "data": {
      "text/plain": [
       "(3735, 15)"
      ]
     },
     "execution_count": 4,
     "metadata": {},
     "output_type": "execute_result"
    }
   ],
   "source": [
    "#Split data for training and testing\n",
    "from sklearn.model_selection import train_test_split\n",
    "\n",
    "X_train, X_test, y_train, y_test = train_test_split(X, \n",
    "                                                    y, \n",
    "                                                    random_state=1, \n",
    "                                                    stratify=y)\n",
    "X_train.shape"
   ]
  },
  {
   "cell_type": "code",
   "execution_count": 5,
   "metadata": {},
   "outputs": [
    {
     "data": {
      "text/plain": [
       "LogisticRegression(max_iter=200, random_state=1)"
      ]
     },
     "execution_count": 5,
     "metadata": {},
     "output_type": "execute_result"
    }
   ],
   "source": [
    "#Logistic Regression \n",
    "classifier = LogisticRegression(solver='lbfgs',\n",
    "                                max_iter=200,\n",
    "                                random_state=1)\n",
    "classifier"
   ]
  },
  {
   "cell_type": "code",
   "execution_count": 6,
   "metadata": {},
   "outputs": [
    {
     "data": {
      "text/plain": [
       "LogisticRegression(max_iter=200, random_state=1)"
      ]
     },
     "execution_count": 6,
     "metadata": {},
     "output_type": "execute_result"
    }
   ],
   "source": [
    "#Train the model\n",
    "classifier.fit(X_train, y_train)"
   ]
  },
  {
   "cell_type": "code",
   "execution_count": 7,
   "metadata": {},
   "outputs": [
    {
     "name": "stdout",
     "output_type": "stream",
     "text": [
      "Training Data Score: 0.9502008032128514\n",
      "Testing Data Score: 0.9502407704654896\n"
     ]
    }
   ],
   "source": [
    "#First score using test data\n",
    "print(f\"Training Data Score: {classifier.score(X_train, y_train)}\")\n",
    "print(f\"Testing Data Score: {classifier.score(X_test, y_test)}\")"
   ]
  },
  {
   "cell_type": "code",
   "execution_count": 65,
   "metadata": {},
   "outputs": [],
   "source": [
    "#Make predictions\n",
    "predictions = classifier.predict_proba(X_test)[:,1]>.0425\n",
    "results = pd.DataFrame({\"Prediction\": predictions, \"Actual\": y_test}).reset_index(drop=True)\n",
    "results\n",
    "\n",
    "# Define the file path for the CSV file\n",
    "csv_file_path = \"prediction_results.csv\"\n",
    "\n",
    "# Export the DataFrame to a CSV file\n",
    "results.to_csv(csv_file_path, index=False)\n"
   ]
  },
  {
   "cell_type": "code",
   "execution_count": 66,
   "metadata": {},
   "outputs": [],
   "source": [
    "predictions2 = []\n",
    "\n",
    "for i in predictions:\n",
    "    if i == True:\n",
    "        predictions2.append('1')\n",
    "    else:\n",
    "        predictions2.append('0')\n"
   ]
  },
  {
   "cell_type": "code",
   "execution_count": 67,
   "metadata": {},
   "outputs": [
    {
     "data": {
      "text/plain": [
       "0.6845906902086677"
      ]
     },
     "execution_count": 67,
     "metadata": {},
     "output_type": "execute_result"
    }
   ],
   "source": [
    "# Calculate the accuracy score for the test dataset.\n",
    "accuracy_score(y_test, predictions2)"
   ]
  },
  {
   "cell_type": "code",
   "execution_count": 68,
   "metadata": {},
   "outputs": [
    {
     "name": "stdout",
     "output_type": "stream",
     "text": [
      "Confusion Matrix:\n",
      "[[799 385]\n",
      " [  8  54]]\n",
      "\n",
      "True Negatives: 799\n",
      "False Positives: 385\n",
      "False Negatives: 8\n",
      "True Positives: 54\n"
     ]
    }
   ],
   "source": [
    "from sklearn.metrics import confusion_matrix\n",
    "\n",
    "confusion = confusion_matrix(y_test, predictions2)\n",
    "\n",
    "# Extracting values from the confusion matrix\n",
    "true_negatives = confusion[0, 0]\n",
    "false_positives = confusion[0, 1]\n",
    "false_negatives = confusion[1, 0]\n",
    "true_positives = confusion[1, 1]\n",
    "\n",
    "print(\"Confusion Matrix:\")\n",
    "print(confusion)\n",
    "print(\"\\nTrue Negatives:\", true_negatives)\n",
    "print(\"False Positives:\", false_positives)\n",
    "print(\"False Negatives:\", false_negatives)\n",
    "print(\"True Positives:\", true_positives)"
   ]
  },
  {
   "cell_type": "code",
   "execution_count": 70,
   "metadata": {},
   "outputs": [
    {
     "data": {
      "image/png": "[encoded data removed]",
      "text/plain": [
       "<Figure size 800x600 with 2 Axes>"
      ]
     },
     "metadata": {},
     "output_type": "display_data"
    }
   ],
   "source": [
    "#Make predictions\n",
    "predictions = classifier.predict(X_test)\n",
    "results = pd.DataFrame({\"Prediction\": predictions2, \"Actual\": y_test}).reset_index(drop=True)\n",
    "\n",
    "# Confusion Matrix\n",
    "confusion = confusion_matrix(y_test, predictions2)\n",
    "plt.figure(figsize=(8, 6))\n",
    "plt.imshow(confusion, cmap=plt.cm.Blues)\n",
    "plt.title(\"Confusion Matrix\")\n",
    "plt.xticks([0, 1], [\"No Stroke\", \"Stroke\"])\n",
    "plt.yticks([0, 1], [\"No Stroke\", \"Stroke\"])\n",
    "plt.colorbar()\n",
    "\n",
    "# Adding annotations to the confusion matrix\n",
    "for i in range(2):\n",
    "    for j in range(2):\n",
    "        plt.text(j, i, confusion[i, j], ha='center', va='center', color='red')\n",
    "\n",
    "plt.xlabel(\"Predicted\")\n",
    "plt.ylabel(\"Actual\")\n",
    "plt.show()\n",
    "\n"
   ]
  },
  {
   "cell_type": "code",
   "execution_count": 71,
   "metadata": {},
   "outputs": [
    {
     "name": "stdout",
     "output_type": "stream",
     "text": [
      "Classification Report:\n",
      "              precision    recall  f1-score   support\n",
      "\n",
      "   No Stroke       0.99      0.67      0.80      1184\n",
      "      Stroke       0.12      0.87      0.22        62\n",
      "\n",
      "    accuracy                           0.68      1246\n",
      "   macro avg       0.56      0.77      0.51      1246\n",
      "weighted avg       0.95      0.68      0.77      1246\n",
      "\n"
     ]
    }
   ],
   "source": [
    "# Classification Report\n",
    "class_report = classification_report(y_test, predictions2, target_names=[\"No Stroke\", \"Stroke\"])\n",
    "print(\"Classification Report:\")\n",
    "print(class_report)"
   ]
  },
  {
   "cell_type": "code",
   "execution_count": 72,
   "metadata": {},
   "outputs": [
    {
     "name": "stdout",
     "output_type": "stream",
     "text": [
      "Feature: age, Coefficient: 1.7247\n",
      "Feature: avg_glucose_level, Coefficient: 0.2099\n",
      "Feature: bmi, Coefficient: 0.0569\n",
      "Feature: ever_married_No, Coefficient: 0.0348\n",
      "Feature: ever_married_Yes, Coefficient: -0.0349\n",
      "Feature: work_type_Govt_job, Coefficient: -0.3843\n",
      "Feature: work_type_Private, Coefficient: 0.0398\n",
      "Feature: work_type_Self-employed, Coefficient: -0.3971\n",
      "Feature: work_type_children, Coefficient: 0.7416\n",
      "Feature: Residence_type_Rural, Coefficient: -0.0724\n",
      "Feature: Residence_type_Urban, Coefficient: 0.0724\n",
      "Feature: smoking_status_Unknown, Coefficient: -0.0298\n",
      "Feature: smoking_status_formerly smoked, Coefficient: 0.0269\n",
      "Feature: smoking_status_never smoked, Coefficient: -0.1806\n",
      "Feature: smoking_status_smokes, Coefficient: 0.1835\n"
     ]
    }
   ],
   "source": [
    "# Getting the coefficients from the trained model\n",
    "feature_names = X.columns\n",
    "coefficients = classifier.coef_[0]\n",
    "\n",
    "# Printing feature names and their corresponding coefficients\n",
    "for feature, coef in zip(feature_names, coefficients):\n",
    "    print(f\"Feature: {feature}, Coefficient: {coef:.4f}\")"
   ]
  },
  {
   "cell_type": "code",
   "execution_count": 73,
   "metadata": {},
   "outputs": [
    {
     "data": {
      "image/png": "[encoded data removed]",
      "text/plain": [
       "<Figure size 1000x600 with 1 Axes>"
      ]
     },
     "metadata": {},
     "output_type": "display_data"
    }
   ],
   "source": [
    "# Creating a bar plot to visualize feature importance\n",
    "plt.figure(figsize=(10, 6))\n",
    "plt.barh(feature_names, coefficients)\n",
    "plt.xlabel('Coefficient Value')\n",
    "plt.ylabel('Feature')\n",
    "plt.title('Feature Importance for Stroke Risk Prediction')\n",
    "plt.show()"
   ]
  },
  {
   "cell_type": "code",
   "execution_count": null,
   "metadata": {},
   "outputs": [],
   "source": []
  }
 ],
 "metadata": {
  "file_extension": ".py",
  "kernelspec": {
   "display_name": "Python 3 (ipykernel)",
   "language": "python",
   "name": "python3"
  },
  "language_info": {
   "codemirror_mode": {
    "name": "ipython",
    "version": 3
   },
   "file_extension": ".py",
   "mimetype": "text/x-python",
   "name": "python",
   "nbconvert_exporter": "python",
   "pygments_lexer": "ipython3",
   "version": "3.9.13"
  },
  "mimetype": "text/x-python",
  "name": "python",
  "npconvert_exporter": "python",
  "pygments_lexer": "ipython3",
  "version": 3
 },
 "nbformat": 4,
 "nbformat_minor": 4
}
