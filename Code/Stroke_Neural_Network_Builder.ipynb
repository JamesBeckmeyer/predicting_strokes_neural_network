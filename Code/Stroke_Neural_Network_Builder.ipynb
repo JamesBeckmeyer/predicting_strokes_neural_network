{
  "nbformat": 4,
  "nbformat_minor": 0,
  "metadata": {
    "colab": {
      "provenance": []
    },
    "kernelspec": {
      "name": "python3",
      "display_name": "Python 3"
    },
    "language_info": {
      "name": "python"
    }
  },
  "cells": [
    {
      "cell_type": "code",
      "source": [
        "!pip install SQLAlchemy==1.4.49"
      ],
      "metadata": {
        "colab": {
          "base_uri": "https://localhost:8080/"
        },
        "id": "rba6us-dVunW",
        "outputId": "fdf27f3d-c9c7-4a20-c26d-464a6fb9e4f2"
      },
      "execution_count": 1,
      "outputs": [
        {
          "output_type": "stream",
          "name": "stdout",
          "text": [
            "Requirement already satisfied: SQLAlchemy==1.4.49 in /usr/local/lib/python3.10/dist-packages (1.4.49)\n",
            "Requirement already satisfied: greenlet!=0.4.17 in /usr/local/lib/python3.10/dist-packages (from SQLAlchemy==1.4.49) (2.0.2)\n"
          ]
        }
      ]
    },
    {
      "cell_type": "markdown",
      "source": [
        "#Please run this in google colab. Import the stroke_data.sqlite file into the content folder for colab.\n"
      ],
      "metadata": {
        "id": "deE1RYC7ZCSC"
      }
    },
    {
      "cell_type": "code",
      "source": [
        "import sqlalchemy\n",
        "import pandas as pd\n",
        "\n",
        "from sqlalchemy.ext.automap import automap_base\n",
        "from sqlalchemy.orm import Session\n",
        "from sqlalchemy import create_engine\n",
        "\n",
        "# Database Setup\n",
        "engine = create_engine(\"sqlite:////content/stroke_data.sqlite\")\n",
        "\n",
        "# reflect an existing database into a new model\n",
        "Base = automap_base()\n",
        "\n",
        "# reflect the tables\n",
        "Base.prepare(autoload_with=engine)\n",
        "\n",
        "#test view all classes found by automap\n",
        "Base.classes.keys()\n",
        "\n",
        "conn = engine.connect()\n",
        "\n",
        "#populate stroke data table\n",
        "stroke_df = pd.read_sql('SELECT * FROM stroke_data', conn)\n",
        "\n",
        "stroke_df.head()"
      ],
      "metadata": {
        "colab": {
          "base_uri": "https://localhost:8080/",
          "height": 244
        },
        "id": "xZNjTckkTIFi",
        "outputId": "95beb31d-89b0-4f4e-cf16-b6434b7f5477"
      },
      "execution_count": 2,
      "outputs": [
        {
          "output_type": "execute_result",
          "data": {
            "text/plain": [
              "   ?                  age       avg_glucose_level                  bmi  \\\n",
              "0  0    1.040584334185826       2.723410903530197    1.193238162209789   \n",
              "1  1    1.614270327485722  -0.0005227665986433442   0.5893896105370293   \n",
              "2  2  0.24624988192443203      1.4485291841720218   0.8692218661902591   \n",
              "3  3   1.5701406356934222      1.5126504540805694  -0.6624915331747888   \n",
              "4  4   1.6584000192780215      1.7808947977464298  0.07390913959686891   \n",
              "\n",
              "  ever_married_No ever_married_Yes work_type_Govt_job work_type_Private  \\\n",
              "0               0                1                  0                 1   \n",
              "1               0                1                  0                 1   \n",
              "2               0                1                  0                 1   \n",
              "3               0                1                  0                 0   \n",
              "4               0                1                  0                 1   \n",
              "\n",
              "  work_type_Self-employed work_type_children Residence_type_Rural  \\\n",
              "0                       0                  0                    0   \n",
              "1                       0                  0                    1   \n",
              "2                       0                  0                    0   \n",
              "3                       1                  0                    1   \n",
              "4                       0                  0                    0   \n",
              "\n",
              "  Residence_type_Urban smoking_status_Unknown smoking_status_formerly smoked  \\\n",
              "0                    1                      0                              1   \n",
              "1                    0                      0                              0   \n",
              "2                    1                      0                              0   \n",
              "3                    0                      0                              0   \n",
              "4                    1                      0                              1   \n",
              "\n",
              "  smoking_status_never smoked smoking_status_smokes stroke  \n",
              "0                           0                     0      1  \n",
              "1                           1                     0      1  \n",
              "2                           0                     1      1  \n",
              "3                           1                     0      1  \n",
              "4                           0                     0      1  "
            ],
            "text/html": [
              "\n",
              "  <div id=\"df-1a4c4ebf-ce08-449b-9ddd-489be910e3da\" class=\"colab-df-container\">\n",
              "    <div>\n",
              "<style scoped>\n",
              "    .dataframe tbody tr th:only-of-type {\n",
              "        vertical-align: middle;\n",
              "    }\n",
              "\n",
              "    .dataframe tbody tr th {\n",
              "        vertical-align: top;\n",
              "    }\n",
              "\n",
              "    .dataframe thead th {\n",
              "        text-align: right;\n",
              "    }\n",
              "</style>\n",
              "<table border=\"1\" class=\"dataframe\">\n",
              "  <thead>\n",
              "    <tr style=\"text-align: right;\">\n",
              "      <th></th>\n",
              "      <th>?</th>\n",
              "      <th>age</th>\n",
              "      <th>avg_glucose_level</th>\n",
              "      <th>bmi</th>\n",
              "      <th>ever_married_No</th>\n",
              "      <th>ever_married_Yes</th>\n",
              "      <th>work_type_Govt_job</th>\n",
              "      <th>work_type_Private</th>\n",
              "      <th>work_type_Self-employed</th>\n",
              "      <th>work_type_children</th>\n",
              "      <th>Residence_type_Rural</th>\n",
              "      <th>Residence_type_Urban</th>\n",
              "      <th>smoking_status_Unknown</th>\n",
              "      <th>smoking_status_formerly smoked</th>\n",
              "      <th>smoking_status_never smoked</th>\n",
              "      <th>smoking_status_smokes</th>\n",
              "      <th>stroke</th>\n",
              "    </tr>\n",
              "  </thead>\n",
              "  <tbody>\n",
              "    <tr>\n",
              "      <th>0</th>\n",
              "      <td>0</td>\n",
              "      <td>1.040584334185826</td>\n",
              "      <td>2.723410903530197</td>\n",
              "      <td>1.193238162209789</td>\n",
              "      <td>0</td>\n",
              "      <td>1</td>\n",
              "      <td>0</td>\n",
              "      <td>1</td>\n",
              "      <td>0</td>\n",
              "      <td>0</td>\n",
              "      <td>0</td>\n",
              "      <td>1</td>\n",
              "      <td>0</td>\n",
              "      <td>1</td>\n",
              "      <td>0</td>\n",
              "      <td>0</td>\n",
              "      <td>1</td>\n",
              "    </tr>\n",
              "    <tr>\n",
              "      <th>1</th>\n",
              "      <td>1</td>\n",
              "      <td>1.614270327485722</td>\n",
              "      <td>-0.0005227665986433442</td>\n",
              "      <td>0.5893896105370293</td>\n",
              "      <td>0</td>\n",
              "      <td>1</td>\n",
              "      <td>0</td>\n",
              "      <td>1</td>\n",
              "      <td>0</td>\n",
              "      <td>0</td>\n",
              "      <td>1</td>\n",
              "      <td>0</td>\n",
              "      <td>0</td>\n",
              "      <td>0</td>\n",
              "      <td>1</td>\n",
              "      <td>0</td>\n",
              "      <td>1</td>\n",
              "    </tr>\n",
              "    <tr>\n",
              "      <th>2</th>\n",
              "      <td>2</td>\n",
              "      <td>0.24624988192443203</td>\n",
              "      <td>1.4485291841720218</td>\n",
              "      <td>0.8692218661902591</td>\n",
              "      <td>0</td>\n",
              "      <td>1</td>\n",
              "      <td>0</td>\n",
              "      <td>1</td>\n",
              "      <td>0</td>\n",
              "      <td>0</td>\n",
              "      <td>0</td>\n",
              "      <td>1</td>\n",
              "      <td>0</td>\n",
              "      <td>0</td>\n",
              "      <td>0</td>\n",
              "      <td>1</td>\n",
              "      <td>1</td>\n",
              "    </tr>\n",
              "    <tr>\n",
              "      <th>3</th>\n",
              "      <td>3</td>\n",
              "      <td>1.5701406356934222</td>\n",
              "      <td>1.5126504540805694</td>\n",
              "      <td>-0.6624915331747888</td>\n",
              "      <td>0</td>\n",
              "      <td>1</td>\n",
              "      <td>0</td>\n",
              "      <td>0</td>\n",
              "      <td>1</td>\n",
              "      <td>0</td>\n",
              "      <td>1</td>\n",
              "      <td>0</td>\n",
              "      <td>0</td>\n",
              "      <td>0</td>\n",
              "      <td>1</td>\n",
              "      <td>0</td>\n",
              "      <td>1</td>\n",
              "    </tr>\n",
              "    <tr>\n",
              "      <th>4</th>\n",
              "      <td>4</td>\n",
              "      <td>1.6584000192780215</td>\n",
              "      <td>1.7808947977464298</td>\n",
              "      <td>0.07390913959686891</td>\n",
              "      <td>0</td>\n",
              "      <td>1</td>\n",
              "      <td>0</td>\n",
              "      <td>1</td>\n",
              "      <td>0</td>\n",
              "      <td>0</td>\n",
              "      <td>0</td>\n",
              "      <td>1</td>\n",
              "      <td>0</td>\n",
              "      <td>1</td>\n",
              "      <td>0</td>\n",
              "      <td>0</td>\n",
              "      <td>1</td>\n",
              "    </tr>\n",
              "  </tbody>\n",
              "</table>\n",
              "</div>\n",
              "    <div class=\"colab-df-buttons\">\n",
              "\n",
              "  <div class=\"colab-df-container\">\n",
              "    <button class=\"colab-df-convert\" onclick=\"convertToInteractive('df-1a4c4ebf-ce08-449b-9ddd-489be910e3da')\"\n",
              "            title=\"Convert this dataframe to an interactive table.\"\n",
              "            style=\"display:none;\">\n",
              "\n",
              "  <svg xmlns=\"http://www.w3.org/2000/svg\" height=\"24px\" viewBox=\"0 -960 960 960\">\n",
              "    <path d=\"M120-120v-720h720v720H120Zm60-500h600v-160H180v160Zm220 220h160v-160H400v160Zm0 220h160v-160H400v160ZM180-400h160v-160H180v160Zm440 0h160v-160H620v160ZM180-180h160v-160H180v160Zm440 0h160v-160H620v160Z\"/>\n",
              "  </svg>\n",
              "    </button>\n",
              "\n",
              "  <style>\n",
              "    .colab-df-container {\n",
              "      display:flex;\n",
              "      gap: 12px;\n",
              "    }\n",
              "\n",
              "    .colab-df-convert {\n",
              "      background-color: #E8F0FE;\n",
              "      border: none;\n",
              "      border-radius: 50%;\n",
              "      cursor: pointer;\n",
              "      display: none;\n",
              "      fill: #1967D2;\n",
              "      height: 32px;\n",
              "      padding: 0 0 0 0;\n",
              "      width: 32px;\n",
              "    }\n",
              "\n",
              "    .colab-df-convert:hover {\n",
              "      background-color: #E2EBFA;\n",
              "      box-shadow: 0px 1px 2px rgba(60, 64, 67, 0.3), 0px 1px 3px 1px rgba(60, 64, 67, 0.15);\n",
              "      fill: #174EA6;\n",
              "    }\n",
              "\n",
              "    .colab-df-buttons div {\n",
              "      margin-bottom: 4px;\n",
              "    }\n",
              "\n",
              "    [theme=dark] .colab-df-convert {\n",
              "      background-color: #3B4455;\n",
              "      fill: #D2E3FC;\n",
              "    }\n",
              "\n",
              "    [theme=dark] .colab-df-convert:hover {\n",
              "      background-color: #434B5C;\n",
              "      box-shadow: 0px 1px 3px 1px rgba(0, 0, 0, 0.15);\n",
              "      filter: drop-shadow(0px 1px 2px rgba(0, 0, 0, 0.3));\n",
              "      fill: #FFFFFF;\n",
              "    }\n",
              "  </style>\n",
              "\n",
              "    <script>\n",
              "      const buttonEl =\n",
              "        document.querySelector('#df-1a4c4ebf-ce08-449b-9ddd-489be910e3da button.colab-df-convert');\n",
              "      buttonEl.style.display =\n",
              "        google.colab.kernel.accessAllowed ? 'block' : 'none';\n",
              "\n",
              "      async function convertToInteractive(key) {\n",
              "        const element = document.querySelector('#df-1a4c4ebf-ce08-449b-9ddd-489be910e3da');\n",
              "        const dataTable =\n",
              "          await google.colab.kernel.invokeFunction('convertToInteractive',\n",
              "                                                    [key], {});\n",
              "        if (!dataTable) return;\n",
              "\n",
              "        const docLinkHtml = 'Like what you see? Visit the ' +\n",
              "          '<a target=\"_blank\" href=https://colab.research.google.com/notebooks/data_table.ipynb>data table notebook</a>'\n",
              "          + ' to learn more about interactive tables.';\n",
              "        element.innerHTML = '';\n",
              "        dataTable['output_type'] = 'display_data';\n",
              "        await google.colab.output.renderOutput(dataTable, element);\n",
              "        const docLink = document.createElement('div');\n",
              "        docLink.innerHTML = docLinkHtml;\n",
              "        element.appendChild(docLink);\n",
              "      }\n",
              "    </script>\n",
              "  </div>\n",
              "\n",
              "\n",
              "<div id=\"df-c99ac9aa-7168-44f8-8fda-46bec6b913fc\">\n",
              "  <button class=\"colab-df-quickchart\" onclick=\"quickchart('df-c99ac9aa-7168-44f8-8fda-46bec6b913fc')\"\n",
              "            title=\"Suggest charts.\"\n",
              "            style=\"display:none;\">\n",
              "\n",
              "<svg xmlns=\"http://www.w3.org/2000/svg\" height=\"24px\"viewBox=\"0 0 24 24\"\n",
              "     width=\"24px\">\n",
              "    <g>\n",
              "        <path d=\"M19 3H5c-1.1 0-2 .9-2 2v14c0 1.1.9 2 2 2h14c1.1 0 2-.9 2-2V5c0-1.1-.9-2-2-2zM9 17H7v-7h2v7zm4 0h-2V7h2v10zm4 0h-2v-4h2v4z\"/>\n",
              "    </g>\n",
              "</svg>\n",
              "  </button>\n",
              "\n",
              "<style>\n",
              "  .colab-df-quickchart {\n",
              "    background-color: #E8F0FE;\n",
              "    border: none;\n",
              "    border-radius: 50%;\n",
              "    cursor: pointer;\n",
              "    display: none;\n",
              "    fill: #1967D2;\n",
              "    height: 32px;\n",
              "    padding: 0 0 0 0;\n",
              "    width: 32px;\n",
              "  }\n",
              "\n",
              "  .colab-df-quickchart:hover {\n",
              "    background-color: #E2EBFA;\n",
              "    box-shadow: 0px 1px 2px rgba(60, 64, 67, 0.3), 0px 1px 3px 1px rgba(60, 64, 67, 0.15);\n",
              "    fill: #174EA6;\n",
              "  }\n",
              "\n",
              "  [theme=dark] .colab-df-quickchart {\n",
              "    background-color: #3B4455;\n",
              "    fill: #D2E3FC;\n",
              "  }\n",
              "\n",
              "  [theme=dark] .colab-df-quickchart:hover {\n",
              "    background-color: #434B5C;\n",
              "    box-shadow: 0px 1px 3px 1px rgba(0, 0, 0, 0.15);\n",
              "    filter: drop-shadow(0px 1px 2px rgba(0, 0, 0, 0.3));\n",
              "    fill: #FFFFFF;\n",
              "  }\n",
              "</style>\n",
              "\n",
              "  <script>\n",
              "    async function quickchart(key) {\n",
              "      const charts = await google.colab.kernel.invokeFunction(\n",
              "          'suggestCharts', [key], {});\n",
              "    }\n",
              "    (() => {\n",
              "      let quickchartButtonEl =\n",
              "        document.querySelector('#df-c99ac9aa-7168-44f8-8fda-46bec6b913fc button');\n",
              "      quickchartButtonEl.style.display =\n",
              "        google.colab.kernel.accessAllowed ? 'block' : 'none';\n",
              "    })();\n",
              "  </script>\n",
              "</div>\n",
              "    </div>\n",
              "  </div>\n"
            ]
          },
          "metadata": {},
          "execution_count": 2
        }
      ]
    },
    {
      "cell_type": "code",
      "source": [
        "len(stroke_df)"
      ],
      "metadata": {
        "colab": {
          "base_uri": "https://localhost:8080/"
        },
        "id": "AXO0eRFjfqGw",
        "outputId": "a1f5b6bc-8424-4c7b-f4ef-0f6780390281"
      },
      "execution_count": 3,
      "outputs": [
        {
          "output_type": "execute_result",
          "data": {
            "text/plain": [
              "4981"
            ]
          },
          "metadata": {},
          "execution_count": 3
        }
      ]
    },
    {
      "cell_type": "code",
      "source": [
        "stroke_df = stroke_df.drop(['?'], axis = 1)\n",
        "stroke_df.head()"
      ],
      "metadata": {
        "colab": {
          "base_uri": "https://localhost:8080/",
          "height": 244
        },
        "id": "kcDuTGYNiptp",
        "outputId": "fda8e301-f2ff-4ba5-d71c-cd47da301926"
      },
      "execution_count": 4,
      "outputs": [
        {
          "output_type": "execute_result",
          "data": {
            "text/plain": [
              "                   age       avg_glucose_level                  bmi  \\\n",
              "0    1.040584334185826       2.723410903530197    1.193238162209789   \n",
              "1    1.614270327485722  -0.0005227665986433442   0.5893896105370293   \n",
              "2  0.24624988192443203      1.4485291841720218   0.8692218661902591   \n",
              "3   1.5701406356934222      1.5126504540805694  -0.6624915331747888   \n",
              "4   1.6584000192780215      1.7808947977464298  0.07390913959686891   \n",
              "\n",
              "  ever_married_No ever_married_Yes work_type_Govt_job work_type_Private  \\\n",
              "0               0                1                  0                 1   \n",
              "1               0                1                  0                 1   \n",
              "2               0                1                  0                 1   \n",
              "3               0                1                  0                 0   \n",
              "4               0                1                  0                 1   \n",
              "\n",
              "  work_type_Self-employed work_type_children Residence_type_Rural  \\\n",
              "0                       0                  0                    0   \n",
              "1                       0                  0                    1   \n",
              "2                       0                  0                    0   \n",
              "3                       1                  0                    1   \n",
              "4                       0                  0                    0   \n",
              "\n",
              "  Residence_type_Urban smoking_status_Unknown smoking_status_formerly smoked  \\\n",
              "0                    1                      0                              1   \n",
              "1                    0                      0                              0   \n",
              "2                    1                      0                              0   \n",
              "3                    0                      0                              0   \n",
              "4                    1                      0                              1   \n",
              "\n",
              "  smoking_status_never smoked smoking_status_smokes stroke  \n",
              "0                           0                     0      1  \n",
              "1                           1                     0      1  \n",
              "2                           0                     1      1  \n",
              "3                           1                     0      1  \n",
              "4                           0                     0      1  "
            ],
            "text/html": [
              "\n",
              "  <div id=\"df-417ed2c6-411b-43c3-b61a-d36d38d58ac8\" class=\"colab-df-container\">\n",
              "    <div>\n",
              "<style scoped>\n",
              "    .dataframe tbody tr th:only-of-type {\n",
              "        vertical-align: middle;\n",
              "    }\n",
              "\n",
              "    .dataframe tbody tr th {\n",
              "        vertical-align: top;\n",
              "    }\n",
              "\n",
              "    .dataframe thead th {\n",
              "        text-align: right;\n",
              "    }\n",
              "</style>\n",
              "<table border=\"1\" class=\"dataframe\">\n",
              "  <thead>\n",
              "    <tr style=\"text-align: right;\">\n",
              "      <th></th>\n",
              "      <th>age</th>\n",
              "      <th>avg_glucose_level</th>\n",
              "      <th>bmi</th>\n",
              "      <th>ever_married_No</th>\n",
              "      <th>ever_married_Yes</th>\n",
              "      <th>work_type_Govt_job</th>\n",
              "      <th>work_type_Private</th>\n",
              "      <th>work_type_Self-employed</th>\n",
              "      <th>work_type_children</th>\n",
              "      <th>Residence_type_Rural</th>\n",
              "      <th>Residence_type_Urban</th>\n",
              "      <th>smoking_status_Unknown</th>\n",
              "      <th>smoking_status_formerly smoked</th>\n",
              "      <th>smoking_status_never smoked</th>\n",
              "      <th>smoking_status_smokes</th>\n",
              "      <th>stroke</th>\n",
              "    </tr>\n",
              "  </thead>\n",
              "  <tbody>\n",
              "    <tr>\n",
              "      <th>0</th>\n",
              "      <td>1.040584334185826</td>\n",
              "      <td>2.723410903530197</td>\n",
              "      <td>1.193238162209789</td>\n",
              "      <td>0</td>\n",
              "      <td>1</td>\n",
              "      <td>0</td>\n",
              "      <td>1</td>\n",
              "      <td>0</td>\n",
              "      <td>0</td>\n",
              "      <td>0</td>\n",
              "      <td>1</td>\n",
              "      <td>0</td>\n",
              "      <td>1</td>\n",
              "      <td>0</td>\n",
              "      <td>0</td>\n",
              "      <td>1</td>\n",
              "    </tr>\n",
              "    <tr>\n",
              "      <th>1</th>\n",
              "      <td>1.614270327485722</td>\n",
              "      <td>-0.0005227665986433442</td>\n",
              "      <td>0.5893896105370293</td>\n",
              "      <td>0</td>\n",
              "      <td>1</td>\n",
              "      <td>0</td>\n",
              "      <td>1</td>\n",
              "      <td>0</td>\n",
              "      <td>0</td>\n",
              "      <td>1</td>\n",
              "      <td>0</td>\n",
              "      <td>0</td>\n",
              "      <td>0</td>\n",
              "      <td>1</td>\n",
              "      <td>0</td>\n",
              "      <td>1</td>\n",
              "    </tr>\n",
              "    <tr>\n",
              "      <th>2</th>\n",
              "      <td>0.24624988192443203</td>\n",
              "      <td>1.4485291841720218</td>\n",
              "      <td>0.8692218661902591</td>\n",
              "      <td>0</td>\n",
              "      <td>1</td>\n",
              "      <td>0</td>\n",
              "      <td>1</td>\n",
              "      <td>0</td>\n",
              "      <td>0</td>\n",
              "      <td>0</td>\n",
              "      <td>1</td>\n",
              "      <td>0</td>\n",
              "      <td>0</td>\n",
              "      <td>0</td>\n",
              "      <td>1</td>\n",
              "      <td>1</td>\n",
              "    </tr>\n",
              "    <tr>\n",
              "      <th>3</th>\n",
              "      <td>1.5701406356934222</td>\n",
              "      <td>1.5126504540805694</td>\n",
              "      <td>-0.6624915331747888</td>\n",
              "      <td>0</td>\n",
              "      <td>1</td>\n",
              "      <td>0</td>\n",
              "      <td>0</td>\n",
              "      <td>1</td>\n",
              "      <td>0</td>\n",
              "      <td>1</td>\n",
              "      <td>0</td>\n",
              "      <td>0</td>\n",
              "      <td>0</td>\n",
              "      <td>1</td>\n",
              "      <td>0</td>\n",
              "      <td>1</td>\n",
              "    </tr>\n",
              "    <tr>\n",
              "      <th>4</th>\n",
              "      <td>1.6584000192780215</td>\n",
              "      <td>1.7808947977464298</td>\n",
              "      <td>0.07390913959686891</td>\n",
              "      <td>0</td>\n",
              "      <td>1</td>\n",
              "      <td>0</td>\n",
              "      <td>1</td>\n",
              "      <td>0</td>\n",
              "      <td>0</td>\n",
              "      <td>0</td>\n",
              "      <td>1</td>\n",
              "      <td>0</td>\n",
              "      <td>1</td>\n",
              "      <td>0</td>\n",
              "      <td>0</td>\n",
              "      <td>1</td>\n",
              "    </tr>\n",
              "  </tbody>\n",
              "</table>\n",
              "</div>\n",
              "    <div class=\"colab-df-buttons\">\n",
              "\n",
              "  <div class=\"colab-df-container\">\n",
              "    <button class=\"colab-df-convert\" onclick=\"convertToInteractive('df-417ed2c6-411b-43c3-b61a-d36d38d58ac8')\"\n",
              "            title=\"Convert this dataframe to an interactive table.\"\n",
              "            style=\"display:none;\">\n",
              "\n",
              "  <svg xmlns=\"http://www.w3.org/2000/svg\" height=\"24px\" viewBox=\"0 -960 960 960\">\n",
              "    <path d=\"M120-120v-720h720v720H120Zm60-500h600v-160H180v160Zm220 220h160v-160H400v160Zm0 220h160v-160H400v160ZM180-400h160v-160H180v160Zm440 0h160v-160H620v160ZM180-180h160v-160H180v160Zm440 0h160v-160H620v160Z\"/>\n",
              "  </svg>\n",
              "    </button>\n",
              "\n",
              "  <style>\n",
              "    .colab-df-container {\n",
              "      display:flex;\n",
              "      gap: 12px;\n",
              "    }\n",
              "\n",
              "    .colab-df-convert {\n",
              "      background-color: #E8F0FE;\n",
              "      border: none;\n",
              "      border-radius: 50%;\n",
              "      cursor: pointer;\n",
              "      display: none;\n",
              "      fill: #1967D2;\n",
              "      height: 32px;\n",
              "      padding: 0 0 0 0;\n",
              "      width: 32px;\n",
              "    }\n",
              "\n",
              "    .colab-df-convert:hover {\n",
              "      background-color: #E2EBFA;\n",
              "      box-shadow: 0px 1px 2px rgba(60, 64, 67, 0.3), 0px 1px 3px 1px rgba(60, 64, 67, 0.15);\n",
              "      fill: #174EA6;\n",
              "    }\n",
              "\n",
              "    .colab-df-buttons div {\n",
              "      margin-bottom: 4px;\n",
              "    }\n",
              "\n",
              "    [theme=dark] .colab-df-convert {\n",
              "      background-color: #3B4455;\n",
              "      fill: #D2E3FC;\n",
              "    }\n",
              "\n",
              "    [theme=dark] .colab-df-convert:hover {\n",
              "      background-color: #434B5C;\n",
              "      box-shadow: 0px 1px 3px 1px rgba(0, 0, 0, 0.15);\n",
              "      filter: drop-shadow(0px 1px 2px rgba(0, 0, 0, 0.3));\n",
              "      fill: #FFFFFF;\n",
              "    }\n",
              "  </style>\n",
              "\n",
              "    <script>\n",
              "      const buttonEl =\n",
              "        document.querySelector('#df-417ed2c6-411b-43c3-b61a-d36d38d58ac8 button.colab-df-convert');\n",
              "      buttonEl.style.display =\n",
              "        google.colab.kernel.accessAllowed ? 'block' : 'none';\n",
              "\n",
              "      async function convertToInteractive(key) {\n",
              "        const element = document.querySelector('#df-417ed2c6-411b-43c3-b61a-d36d38d58ac8');\n",
              "        const dataTable =\n",
              "          await google.colab.kernel.invokeFunction('convertToInteractive',\n",
              "                                                    [key], {});\n",
              "        if (!dataTable) return;\n",
              "\n",
              "        const docLinkHtml = 'Like what you see? Visit the ' +\n",
              "          '<a target=\"_blank\" href=https://colab.research.google.com/notebooks/data_table.ipynb>data table notebook</a>'\n",
              "          + ' to learn more about interactive tables.';\n",
              "        element.innerHTML = '';\n",
              "        dataTable['output_type'] = 'display_data';\n",
              "        await google.colab.output.renderOutput(dataTable, element);\n",
              "        const docLink = document.createElement('div');\n",
              "        docLink.innerHTML = docLinkHtml;\n",
              "        element.appendChild(docLink);\n",
              "      }\n",
              "    </script>\n",
              "  </div>\n",
              "\n",
              "\n",
              "<div id=\"df-4ed02384-2c45-4a54-ad05-bbdb39d8d6d0\">\n",
              "  <button class=\"colab-df-quickchart\" onclick=\"quickchart('df-4ed02384-2c45-4a54-ad05-bbdb39d8d6d0')\"\n",
              "            title=\"Suggest charts.\"\n",
              "            style=\"display:none;\">\n",
              "\n",
              "<svg xmlns=\"http://www.w3.org/2000/svg\" height=\"24px\"viewBox=\"0 0 24 24\"\n",
              "     width=\"24px\">\n",
              "    <g>\n",
              "        <path d=\"M19 3H5c-1.1 0-2 .9-2 2v14c0 1.1.9 2 2 2h14c1.1 0 2-.9 2-2V5c0-1.1-.9-2-2-2zM9 17H7v-7h2v7zm4 0h-2V7h2v10zm4 0h-2v-4h2v4z\"/>\n",
              "    </g>\n",
              "</svg>\n",
              "  </button>\n",
              "\n",
              "<style>\n",
              "  .colab-df-quickchart {\n",
              "    background-color: #E8F0FE;\n",
              "    border: none;\n",
              "    border-radius: 50%;\n",
              "    cursor: pointer;\n",
              "    display: none;\n",
              "    fill: #1967D2;\n",
              "    height: 32px;\n",
              "    padding: 0 0 0 0;\n",
              "    width: 32px;\n",
              "  }\n",
              "\n",
              "  .colab-df-quickchart:hover {\n",
              "    background-color: #E2EBFA;\n",
              "    box-shadow: 0px 1px 2px rgba(60, 64, 67, 0.3), 0px 1px 3px 1px rgba(60, 64, 67, 0.15);\n",
              "    fill: #174EA6;\n",
              "  }\n",
              "\n",
              "  [theme=dark] .colab-df-quickchart {\n",
              "    background-color: #3B4455;\n",
              "    fill: #D2E3FC;\n",
              "  }\n",
              "\n",
              "  [theme=dark] .colab-df-quickchart:hover {\n",
              "    background-color: #434B5C;\n",
              "    box-shadow: 0px 1px 3px 1px rgba(0, 0, 0, 0.15);\n",
              "    filter: drop-shadow(0px 1px 2px rgba(0, 0, 0, 0.3));\n",
              "    fill: #FFFFFF;\n",
              "  }\n",
              "</style>\n",
              "\n",
              "  <script>\n",
              "    async function quickchart(key) {\n",
              "      const charts = await google.colab.kernel.invokeFunction(\n",
              "          'suggestCharts', [key], {});\n",
              "    }\n",
              "    (() => {\n",
              "      let quickchartButtonEl =\n",
              "        document.querySelector('#df-4ed02384-2c45-4a54-ad05-bbdb39d8d6d0 button');\n",
              "      quickchartButtonEl.style.display =\n",
              "        google.colab.kernel.accessAllowed ? 'block' : 'none';\n",
              "    })();\n",
              "  </script>\n",
              "</div>\n",
              "    </div>\n",
              "  </div>\n"
            ]
          },
          "metadata": {},
          "execution_count": 4
        }
      ]
    },
    {
      "cell_type": "code",
      "source": [
        "stroke_df = stroke_df.apply(pd.to_numeric, errors='coerce')"
      ],
      "metadata": {
        "id": "VBf15TrVczbm"
      },
      "execution_count": 5,
      "outputs": []
    },
    {
      "cell_type": "code",
      "source": [
        "from sklearn.model_selection import train_test_split\n",
        "import tensorflow as tf"
      ],
      "metadata": {
        "id": "CwqurMRbZ_bE"
      },
      "execution_count": 6,
      "outputs": []
    },
    {
      "cell_type": "code",
      "source": [
        "y = stroke_df['stroke']\n",
        "X = stroke_df.drop(columns='stroke')\n",
        "X_train, X_test, y_train, y_test = train_test_split(X, y, random_state=1)"
      ],
      "metadata": {
        "id": "DDBSmY5eTE5W"
      },
      "execution_count": 7,
      "outputs": []
    },
    {
      "cell_type": "code",
      "source": [
        "nn_model_recall_acc = tf.keras.models.Sequential()\n",
        "\n",
        "# First hidden layer\n",
        "nn_model_recall_acc.add(tf.keras.layers.Dense(units=8, activation=\"LeakyReLU\", input_dim=15))\n",
        "\n",
        "# Second hidden layer\n",
        "nn_model_recall_acc.add(tf.keras.layers.Dense(units=8, activation=\"relu\"))\n",
        "\n",
        "# Third hidden layer\n",
        "nn_model_recall_acc.add(tf.keras.layers.Dense(units=8, activation=\"softplus\"))\n",
        "\n",
        "#Fourth hidden layer\n",
        "nn_model_recall_acc.add(tf.keras.layers.Dense(units=8, activation=\"selu\"))\n",
        "\n",
        "#Fith hidden layer\n",
        "nn_model_recall_acc.add(tf.keras.layers.Dense(units=8, activation=\"relu\"))\n",
        "\n",
        "# Output layer\n",
        "nn_model_recall_acc.add(tf.keras.layers.Dense(units=1, activation=\"sigmoid\"))\n",
        "\n",
        "nn_model_recall_acc.compile(optimizer='adam', loss='binary_crossentropy', metrics=['accuracy', tf.keras.metrics.Recall(), tf.keras.metrics.Precision()])\n",
        "\n",
        "fit_model = nn_model_recall_acc.fit(X_train, y_train, epochs=50)"
      ],
      "metadata": {
        "colab": {
          "base_uri": "https://localhost:8080/"
        },
        "id": "Nd8g0zVjjvuj",
        "outputId": "26dd55aa-d871-4065-c017-d09f028485b2"
      },
      "execution_count": 8,
      "outputs": [
        {
          "output_type": "stream",
          "name": "stdout",
          "text": [
            "Epoch 1/50\n",
            "117/117 [==============================] - 4s 5ms/step - loss: 0.1974 - accuracy: 0.9518 - recall: 0.0000e+00 - precision: 0.0000e+00\n",
            "Epoch 2/50\n",
            "117/117 [==============================] - 1s 6ms/step - loss: 0.1743 - accuracy: 0.9518 - recall: 0.0000e+00 - precision: 0.0000e+00\n",
            "Epoch 3/50\n",
            "117/117 [==============================] - 1s 10ms/step - loss: 0.1647 - accuracy: 0.9518 - recall: 0.0000e+00 - precision: 0.0000e+00\n",
            "Epoch 4/50\n",
            "117/117 [==============================] - 1s 10ms/step - loss: 0.1611 - accuracy: 0.9518 - recall: 0.0000e+00 - precision: 0.0000e+00\n",
            "Epoch 5/50\n",
            "117/117 [==============================] - 1s 7ms/step - loss: 0.1592 - accuracy: 0.9518 - recall: 0.0000e+00 - precision: 0.0000e+00\n",
            "Epoch 6/50\n",
            "117/117 [==============================] - 1s 4ms/step - loss: 0.1580 - accuracy: 0.9518 - recall: 0.0000e+00 - precision: 0.0000e+00\n",
            "Epoch 7/50\n",
            "117/117 [==============================] - 1s 5ms/step - loss: 0.1568 - accuracy: 0.9518 - recall: 0.0000e+00 - precision: 0.0000e+00\n",
            "Epoch 8/50\n",
            "117/117 [==============================] - 1s 6ms/step - loss: 0.1562 - accuracy: 0.9518 - recall: 0.0000e+00 - precision: 0.0000e+00\n",
            "Epoch 9/50\n",
            "117/117 [==============================] - 1s 6ms/step - loss: 0.1559 - accuracy: 0.9518 - recall: 0.0000e+00 - precision: 0.0000e+00\n",
            "Epoch 10/50\n",
            "117/117 [==============================] - 1s 6ms/step - loss: 0.1560 - accuracy: 0.9518 - recall: 0.0000e+00 - precision: 0.0000e+00\n",
            "Epoch 11/50\n",
            "117/117 [==============================] - 1s 7ms/step - loss: 0.1555 - accuracy: 0.9518 - recall: 0.0000e+00 - precision: 0.0000e+00\n",
            "Epoch 12/50\n",
            "117/117 [==============================] - 1s 8ms/step - loss: 0.1549 - accuracy: 0.9518 - recall: 0.0000e+00 - precision: 0.0000e+00\n",
            "Epoch 13/50\n",
            "117/117 [==============================] - 1s 7ms/step - loss: 0.1546 - accuracy: 0.9518 - recall: 0.0000e+00 - precision: 0.0000e+00\n",
            "Epoch 14/50\n",
            "117/117 [==============================] - 1s 7ms/step - loss: 0.1553 - accuracy: 0.9518 - recall: 0.0000e+00 - precision: 0.0000e+00\n",
            "Epoch 15/50\n",
            "117/117 [==============================] - 1s 7ms/step - loss: 0.1548 - accuracy: 0.9518 - recall: 0.0000e+00 - precision: 0.0000e+00\n",
            "Epoch 16/50\n",
            "117/117 [==============================] - 1s 6ms/step - loss: 0.1546 - accuracy: 0.9518 - recall: 0.0000e+00 - precision: 0.0000e+00\n",
            "Epoch 17/50\n",
            "117/117 [==============================] - 0s 3ms/step - loss: 0.1542 - accuracy: 0.9518 - recall: 0.0000e+00 - precision: 0.0000e+00\n",
            "Epoch 18/50\n",
            "117/117 [==============================] - 0s 3ms/step - loss: 0.1545 - accuracy: 0.9518 - recall: 0.0000e+00 - precision: 0.0000e+00\n",
            "Epoch 19/50\n",
            "117/117 [==============================] - 0s 3ms/step - loss: 0.1541 - accuracy: 0.9518 - recall: 0.0000e+00 - precision: 0.0000e+00\n",
            "Epoch 20/50\n",
            "117/117 [==============================] - 0s 3ms/step - loss: 0.1541 - accuracy: 0.9518 - recall: 0.0000e+00 - precision: 0.0000e+00\n",
            "Epoch 21/50\n",
            "117/117 [==============================] - 0s 3ms/step - loss: 0.1536 - accuracy: 0.9518 - recall: 0.0000e+00 - precision: 0.0000e+00\n",
            "Epoch 22/50\n",
            "117/117 [==============================] - 0s 3ms/step - loss: 0.1544 - accuracy: 0.9518 - recall: 0.0000e+00 - precision: 0.0000e+00\n",
            "Epoch 23/50\n",
            "117/117 [==============================] - 0s 4ms/step - loss: 0.1535 - accuracy: 0.9518 - recall: 0.0000e+00 - precision: 0.0000e+00\n",
            "Epoch 24/50\n",
            "117/117 [==============================] - 0s 4ms/step - loss: 0.1539 - accuracy: 0.9518 - recall: 0.0000e+00 - precision: 0.0000e+00\n",
            "Epoch 25/50\n",
            "117/117 [==============================] - 1s 4ms/step - loss: 0.1539 - accuracy: 0.9518 - recall: 0.0000e+00 - precision: 0.0000e+00\n",
            "Epoch 26/50\n",
            "117/117 [==============================] - 0s 4ms/step - loss: 0.1536 - accuracy: 0.9518 - recall: 0.0000e+00 - precision: 0.0000e+00\n",
            "Epoch 27/50\n",
            "117/117 [==============================] - 0s 4ms/step - loss: 0.1533 - accuracy: 0.9518 - recall: 0.0000e+00 - precision: 0.0000e+00\n",
            "Epoch 28/50\n",
            "117/117 [==============================] - 0s 4ms/step - loss: 0.1532 - accuracy: 0.9518 - recall: 0.0000e+00 - precision: 0.0000e+00\n",
            "Epoch 29/50\n",
            "117/117 [==============================] - 0s 3ms/step - loss: 0.1530 - accuracy: 0.9518 - recall: 0.0000e+00 - precision: 0.0000e+00\n",
            "Epoch 30/50\n",
            "117/117 [==============================] - 0s 3ms/step - loss: 0.1529 - accuracy: 0.9518 - recall: 0.0000e+00 - precision: 0.0000e+00\n",
            "Epoch 31/50\n",
            "117/117 [==============================] - 0s 3ms/step - loss: 0.1539 - accuracy: 0.9518 - recall: 0.0000e+00 - precision: 0.0000e+00\n",
            "Epoch 32/50\n",
            "117/117 [==============================] - 0s 3ms/step - loss: 0.1531 - accuracy: 0.9518 - recall: 0.0000e+00 - precision: 0.0000e+00\n",
            "Epoch 33/50\n",
            "117/117 [==============================] - 0s 3ms/step - loss: 0.1526 - accuracy: 0.9518 - recall: 0.0000e+00 - precision: 0.0000e+00\n",
            "Epoch 34/50\n",
            "117/117 [==============================] - 0s 3ms/step - loss: 0.1524 - accuracy: 0.9518 - recall: 0.0000e+00 - precision: 0.0000e+00\n",
            "Epoch 35/50\n",
            "117/117 [==============================] - 0s 3ms/step - loss: 0.1529 - accuracy: 0.9518 - recall: 0.0000e+00 - precision: 0.0000e+00\n",
            "Epoch 36/50\n",
            "117/117 [==============================] - 0s 3ms/step - loss: 0.1524 - accuracy: 0.9518 - recall: 0.0000e+00 - precision: 0.0000e+00\n",
            "Epoch 37/50\n",
            "117/117 [==============================] - 0s 3ms/step - loss: 0.1520 - accuracy: 0.9518 - recall: 0.0000e+00 - precision: 0.0000e+00\n",
            "Epoch 38/50\n",
            "117/117 [==============================] - 0s 2ms/step - loss: 0.1519 - accuracy: 0.9518 - recall: 0.0000e+00 - precision: 0.0000e+00\n",
            "Epoch 39/50\n",
            "117/117 [==============================] - 0s 3ms/step - loss: 0.1519 - accuracy: 0.9518 - recall: 0.0000e+00 - precision: 0.0000e+00\n",
            "Epoch 40/50\n",
            "117/117 [==============================] - 0s 3ms/step - loss: 0.1523 - accuracy: 0.9518 - recall: 0.0000e+00 - precision: 0.0000e+00\n",
            "Epoch 41/50\n",
            "117/117 [==============================] - 0s 3ms/step - loss: 0.1522 - accuracy: 0.9518 - recall: 0.0000e+00 - precision: 0.0000e+00\n",
            "Epoch 42/50\n",
            "117/117 [==============================] - 0s 3ms/step - loss: 0.1516 - accuracy: 0.9518 - recall: 0.0000e+00 - precision: 0.0000e+00\n",
            "Epoch 43/50\n",
            "117/117 [==============================] - 0s 3ms/step - loss: 0.1517 - accuracy: 0.9518 - recall: 0.0000e+00 - precision: 0.0000e+00\n",
            "Epoch 44/50\n",
            "117/117 [==============================] - 0s 3ms/step - loss: 0.1516 - accuracy: 0.9518 - recall: 0.0000e+00 - precision: 0.0000e+00\n",
            "Epoch 45/50\n",
            "117/117 [==============================] - 0s 3ms/step - loss: 0.1511 - accuracy: 0.9518 - recall: 0.0000e+00 - precision: 0.0000e+00\n",
            "Epoch 46/50\n",
            "117/117 [==============================] - 0s 3ms/step - loss: 0.1508 - accuracy: 0.9518 - recall: 0.0000e+00 - precision: 0.0000e+00\n",
            "Epoch 47/50\n",
            "117/117 [==============================] - 0s 3ms/step - loss: 0.1506 - accuracy: 0.9518 - recall: 0.0000e+00 - precision: 0.0000e+00\n",
            "Epoch 48/50\n",
            "117/117 [==============================] - 0s 3ms/step - loss: 0.1507 - accuracy: 0.9518 - recall: 0.0000e+00 - precision: 0.0000e+00\n",
            "Epoch 49/50\n",
            "117/117 [==============================] - 0s 3ms/step - loss: 0.1506 - accuracy: 0.9518 - recall: 0.0000e+00 - precision: 0.0000e+00\n",
            "Epoch 50/50\n",
            "117/117 [==============================] - 0s 3ms/step - loss: 0.1507 - accuracy: 0.9518 - recall: 0.0000e+00 - precision: 0.0000e+00\n"
          ]
        }
      ]
    },
    {
      "cell_type": "code",
      "source": [
        "y_prediction = nn_model_recall_acc.predict(X_test)\n",
        "\n",
        "#Create confusion matrix and normalizes it over predicted (columns)\n",
        "from sklearn.metrics import confusion_matrix\n",
        "result = confusion_matrix(y_test, y_prediction>.075)\n",
        "print(result)"
      ],
      "metadata": {
        "colab": {
          "base_uri": "https://localhost:8080/"
        },
        "id": "_yXocU4TkrtD",
        "outputId": "038cf645-d9c0-4c86-a844-1b14813f7141"
      },
      "execution_count": 9,
      "outputs": [
        {
          "output_type": "stream",
          "name": "stdout",
          "text": [
            "39/39 [==============================] - 0s 2ms/step\n",
            "[[973 205]\n",
            " [ 20  48]]\n"
          ]
        }
      ]
    },
    {
      "cell_type": "code",
      "source": [
        "y_prediction = nn_model_recall_acc.predict(X_test)\n",
        "result = confusion_matrix(y_test, y_prediction>.075, normalize='pred')\n",
        "print(result)"
      ],
      "metadata": {
        "colab": {
          "base_uri": "https://localhost:8080/"
        },
        "id": "Cvi2H1c75xBQ",
        "outputId": "32b0083e-3930-4834-87c2-f7dc47265686"
      },
      "execution_count": 10,
      "outputs": [
        {
          "output_type": "stream",
          "name": "stdout",
          "text": [
            "39/39 [==============================] - 0s 2ms/step\n",
            "[[0.97985901 0.81027668]\n",
            " [0.02014099 0.18972332]]\n"
          ]
        }
      ]
    },
    {
      "cell_type": "code",
      "source": [
        "y_prediction_train = nn_model_recall_acc.predict(X_train)\n",
        "result = confusion_matrix(y_train, y_prediction_train>.075, normalize='pred')\n",
        "print(result)"
      ],
      "metadata": {
        "colab": {
          "base_uri": "https://localhost:8080/"
        },
        "id": "Traj9fxcB7Aw",
        "outputId": "00d9d13f-a352-4496-8259-30304819eced"
      },
      "execution_count": 11,
      "outputs": [
        {
          "output_type": "stream",
          "name": "stdout",
          "text": [
            "117/117 [==============================] - 0s 2ms/step\n",
            "[[0.98423037 0.83618582]\n",
            " [0.01576963 0.16381418]]\n"
          ]
        }
      ]
    },
    {
      "cell_type": "code",
      "source": [
        "nn_model_recall_acc.summary()"
      ],
      "metadata": {
        "colab": {
          "base_uri": "https://localhost:8080/"
        },
        "id": "_ZC5ivLGz9Vb",
        "outputId": "8d80c702-b1cf-49fb-e3a2-8ead42b308f0"
      },
      "execution_count": 12,
      "outputs": [
        {
          "output_type": "stream",
          "name": "stdout",
          "text": [
            "Model: \"sequential\"\n",
            "_________________________________________________________________\n",
            " Layer (type)                Output Shape              Param #   \n",
            "=================================================================\n",
            " dense (Dense)               (None, 8)                 128       \n",
            "                                                                 \n",
            " dense_1 (Dense)             (None, 8)                 72        \n",
            "                                                                 \n",
            " dense_2 (Dense)             (None, 8)                 72        \n",
            "                                                                 \n",
            " dense_3 (Dense)             (None, 8)                 72        \n",
            "                                                                 \n",
            " dense_4 (Dense)             (None, 8)                 72        \n",
            "                                                                 \n",
            " dense_5 (Dense)             (None, 1)                 9         \n",
            "                                                                 \n",
            "=================================================================\n",
            "Total params: 425\n",
            "Trainable params: 425\n",
            "Non-trainable params: 0\n",
            "_________________________________________________________________\n"
          ]
        }
      ]
    },
    {
      "cell_type": "code",
      "source": [
        "!pip install keras-tuner"
      ],
      "metadata": {
        "colab": {
          "base_uri": "https://localhost:8080/"
        },
        "id": "QjIbYTiLoQl3",
        "outputId": "1210a217-31df-490c-e602-4bfb53b628e3"
      },
      "execution_count": 13,
      "outputs": [
        {
          "output_type": "stream",
          "name": "stdout",
          "text": [
            "Collecting keras-tuner\n",
            "  Downloading keras_tuner-1.3.5-py3-none-any.whl (176 kB)\n",
            "\u001b[?25l     \u001b[90m━━━━━━━━━━━━━━━━━━━━━━━━━━━━━━━━━━━━━━━━\u001b[0m \u001b[32m0.0/176.1 kB\u001b[0m \u001b[31m?\u001b[0m eta \u001b[36m-:--:--\u001b[0m\r\u001b[2K     \u001b[91m━━━━━━━━━━━━━━━━\u001b[0m\u001b[90m╺\u001b[0m\u001b[90m━━━━━━━━━━━━━━━━━━━━━━━\u001b[0m \u001b[32m71.7/176.1 kB\u001b[0m \u001b[31m2.1 MB/s\u001b[0m eta \u001b[36m0:00:01\u001b[0m\r\u001b[2K     \u001b[90m━━━━━━━━━━━━━━━━━━━━━━━━━━━━━━━━━━━━━━━\u001b[0m \u001b[32m176.1/176.1 kB\u001b[0m \u001b[31m3.1 MB/s\u001b[0m eta \u001b[36m0:00:00\u001b[0m\n",
            "\u001b[?25hRequirement already satisfied: packaging in /usr/local/lib/python3.10/dist-packages (from keras-tuner) (23.1)\n",
            "Requirement already satisfied: requests in /usr/local/lib/python3.10/dist-packages (from keras-tuner) (2.31.0)\n",
            "Collecting kt-legacy (from keras-tuner)\n",
            "  Downloading kt_legacy-1.0.5-py3-none-any.whl (9.6 kB)\n",
            "Requirement already satisfied: charset-normalizer<4,>=2 in /usr/local/lib/python3.10/dist-packages (from requests->keras-tuner) (3.2.0)\n",
            "Requirement already satisfied: idna<4,>=2.5 in /usr/local/lib/python3.10/dist-packages (from requests->keras-tuner) (3.4)\n",
            "Requirement already satisfied: urllib3<3,>=1.21.1 in /usr/local/lib/python3.10/dist-packages (from requests->keras-tuner) (2.0.4)\n",
            "Requirement already satisfied: certifi>=2017.4.17 in /usr/local/lib/python3.10/dist-packages (from requests->keras-tuner) (2023.7.22)\n",
            "Installing collected packages: kt-legacy, keras-tuner\n",
            "Successfully installed keras-tuner-1.3.5 kt-legacy-1.0.5\n"
          ]
        }
      ]
    },
    {
      "cell_type": "code",
      "source": [
        "def create_model(hp):\n",
        "    nn_model_optimized = tf.keras.models.Sequential()\n",
        "\n",
        "    # Allow kerastuner to decide which activation function to use in hidden layers\n",
        "    activation = hp.Choice('activation',['relu', 'LeakyReLU', 'sigmoid', 'softplus', 'selu'])\n",
        "\n",
        "    # Allow kerastuner to decide number of neurons in first layer\n",
        "    nn_model_optimized.add(tf.keras.layers.Dense(units=hp.Int('first_units',\n",
        "        min_value=1,\n",
        "        max_value=10,\n",
        "        step=2), activation=activation, input_dim=15))\n",
        "\n",
        "    # Allow kerastuner to decide number of hidden layers and neurons in hidden layers\n",
        "    for i in range(hp.Int('num_layers', 1, 6)):\n",
        "        nn_model_optimized.add(tf.keras.layers.Dense(units=hp.Int('units_' + str(i),\n",
        "            min_value=1,\n",
        "            max_value=10,\n",
        "            step=2),\n",
        "            activation=activation))\n",
        "\n",
        "    nn_model_optimized.add(tf.keras.layers.Dense(units=1, activation=\"sigmoid\"))\n",
        "\n",
        "    # Compile the model\n",
        "    nn_model_optimized.compile(loss=\"binary_crossentropy\", optimizer='adam', metrics=['accuracy', tf.keras.metrics.Recall(), tf.keras.metrics.Precision()])\n",
        "\n",
        "    return nn_model_optimized"
      ],
      "metadata": {
        "id": "ekPhyaI26mhZ"
      },
      "execution_count": 17,
      "outputs": []
    },
    {
      "cell_type": "code",
      "source": [
        "import keras_tuner as kt\n",
        "\n",
        "tuner = kt.Hyperband(\n",
        "    create_model,\n",
        "    objective=\"val_accuracy\",\n",
        "    max_epochs=100,\n",
        "    hyperband_iterations=5)"
      ],
      "metadata": {
        "id": "jdLQmLFtnFaD"
      },
      "execution_count": 18,
      "outputs": []
    },
    {
      "cell_type": "code",
      "source": [],
      "metadata": {
        "id": "n6HCAiIisMwO"
      },
      "execution_count": null,
      "outputs": []
    },
    {
      "cell_type": "markdown",
      "source": [
        "# ***WARNING:*** the following code will begin the optimization process. This can take several hours."
      ],
      "metadata": {
        "id": "bH57df0XsOAJ"
      }
    },
    {
      "cell_type": "markdown",
      "source": [
        "If you would like to test the optimized model, please download and use 'Stroke_Predictor.h5'."
      ],
      "metadata": {
        "id": "THA3DQ2asg3x"
      }
    },
    {
      "cell_type": "code",
      "source": [
        "tuner.search(X_train,y_train,epochs=50,validation_data=(X_test,y_test))"
      ],
      "metadata": {
        "colab": {
          "base_uri": "https://localhost:8080/"
        },
        "id": "hsTMClBPoWXV",
        "outputId": "80eba537-2c7e-4b28-c2d9-5ef9193b8574"
      },
      "execution_count": 19,
      "outputs": [
        {
          "output_type": "stream",
          "name": "stdout",
          "text": [
            "Trial 1262 Complete [00h 00m 53s]\n",
            "val_accuracy: 0.9454253315925598\n",
            "\n",
            "Best val_accuracy So Far: 0.9486356377601624\n",
            "Total elapsed time: 03h 04m 14s\n"
          ]
        }
      ]
    },
    {
      "cell_type": "code",
      "source": [
        "best_hyper = tuner.get_best_hyperparameters(1)[0]\n",
        "best_hyper.values"
      ],
      "metadata": {
        "colab": {
          "base_uri": "https://localhost:8080/"
        },
        "id": "eZq1N86XooBN",
        "outputId": "fe523f29-6bfb-4b65-ed46-004aa398e873"
      },
      "execution_count": 20,
      "outputs": [
        {
          "output_type": "execute_result",
          "data": {
            "text/plain": [
              "{'activation': 'selu',\n",
              " 'first_units': 7,\n",
              " 'num_layers': 6,\n",
              " 'units_0': 9,\n",
              " 'units_1': 9,\n",
              " 'units_2': 1,\n",
              " 'units_3': 1,\n",
              " 'units_4': 7,\n",
              " 'units_5': 3,\n",
              " 'tuner/epochs': 34,\n",
              " 'tuner/initial_epoch': 12,\n",
              " 'tuner/bracket': 2,\n",
              " 'tuner/round': 1,\n",
              " 'tuner/trial_id': '0463'}"
            ]
          },
          "metadata": {},
          "execution_count": 20
        }
      ]
    },
    {
      "cell_type": "code",
      "source": [
        "best_model = tuner.get_best_models(1)[0]\n"
      ],
      "metadata": {
        "id": "bPQO3Wsxowbm"
      },
      "execution_count": 23,
      "outputs": []
    },
    {
      "cell_type": "code",
      "source": [
        "y_prediction = best_model.predict(X_test)\n",
        "\n",
        "#Create confusion matrix and normalizes it over predicted (columns)\n",
        "\n",
        "result = confusion_matrix(y_test, y_prediction>.0825)\n",
        "print(result)"
      ],
      "metadata": {
        "colab": {
          "base_uri": "https://localhost:8080/"
        },
        "id": "3XVBLC8Mo2ee",
        "outputId": "336e84ae-fc5f-452c-a66b-c9707f0c9a52"
      },
      "execution_count": 82,
      "outputs": [
        {
          "output_type": "stream",
          "name": "stdout",
          "text": [
            "39/39 [==============================] - 0s 2ms/step\n",
            "[[856 322]\n",
            " [  9  59]]\n"
          ]
        }
      ]
    },
    {
      "cell_type": "markdown",
      "source": [
        "# Summary of Results"
      ],
      "metadata": {
        "id": "lJZvH2xfsw1q"
      }
    },
    {
      "cell_type": "markdown",
      "source": [
        "This optimized model takes around the highest risk third of our testing population and suggests they seek further medical testing for concerns of an oncoming stroke.\n",
        "\n",
        "At a .0825 threshold, the model catches ~87% of strokes. A total of 381 will be sent for additional testing, and ~15% of those sent will go on to have a stroke, compared to ~5% for the total testing population.\n",
        "\n",
        "The 9 who have a stroke but are not sent for testing would need the threshold dropped significantly to be caught. This indicates that they are maybe showing signs of an oncoming stroke in a way that is not represented in our data, or showing no signs at all. Additional data could improve the functionality of this and future models."
      ],
      "metadata": {
        "id": "cDyLSexonsTa"
      }
    },
    {
      "cell_type": "code",
      "source": [
        "# Save the model\n",
        "best_model.save(\"Stroke_Predictor.h5\")"
      ],
      "metadata": {
        "id": "M-AgDV-iloAH"
      },
      "execution_count": 68,
      "outputs": []
    },
    {
      "cell_type": "code",
      "source": [
        "# Load the model\n",
        "from tensorflow.keras.models import load_model\n",
        "model = load_model(\"Stroke_Predictor.h5\")"
      ],
      "metadata": {
        "id": "l3vZBmynnmeG"
      },
      "execution_count": 70,
      "outputs": []
    },
    {
      "cell_type": "code",
      "source": [
        "y_prediction = model.predict(X_test)\n",
        "\n",
        "#Create confusion matrix and normalizes it over predicted (columns)\n",
        "\n",
        "result = confusion_matrix(y_test, y_prediction>.0825)\n",
        "print(result)"
      ],
      "metadata": {
        "id": "EAPGPoj7r8tc",
        "outputId": "1bdceaf9-9aec-43b2-8fb2-be5e92e0ea57",
        "colab": {
          "base_uri": "https://localhost:8080/"
        }
      },
      "execution_count": 71,
      "outputs": [
        {
          "output_type": "stream",
          "name": "stdout",
          "text": [
            "39/39 [==============================] - 1s 7ms/step\n",
            "[[856 322]\n",
            " [  9  59]]\n"
          ]
        }
      ]
    },
    {
      "cell_type": "code",
      "source": [],
      "metadata": {
        "id": "I5hs75fJsDIZ"
      },
      "execution_count": null,
      "outputs": []
    }
  ]
}